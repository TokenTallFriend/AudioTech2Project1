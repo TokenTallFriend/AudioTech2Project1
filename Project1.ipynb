{
 "cells": [
  {
   "cell_type": "code",
   "execution_count": 14,
   "id": "3400736f",
   "metadata": {},
   "outputs": [
    {
     "name": "stdout",
     "output_type": "stream",
     "text": [
      "[[[246.94165062806206, 195.99771799087463, 293.6647679174076], 0.5], [[220.0], 0.5], [[195.99771799087463], 0.5], [[220.0], 0.5], [[246.94165062806206], 0.5], [[246.94165062806206], 0.5], [[246.94165062806206], 0.5], [[0.0], 0.5]]\n"
     ]
    }
   ],
   "source": [
    "midi_notes = []\n",
    "for note in range(128):\n",
    "    midi_notes.append(440*pow(2, (note-69)/12))\n",
    "\n",
    "def noteToHz (notes, bpm=120) :\n",
    "    let2num = {'c': 0, 'c#': 1, 'db': 1, 'd': 2, 'd#': 3, 'eb': 3, 'e': 4, 'fb': 4, 'f': 5, 'e#': 5, 'F#': 6, 'gb': 6,\n",
    "               'g': 7, 'g#': 8, 'ab': 8, 'a': 9, 'a#': 10, 'bb': 10, 'b': 11, 'cb': 11} #all possible note inputs\n",
    "    whole_note = 240 / bpm\n",
    "    output = []\n",
    "    for chord in notes:\n",
    "        #handling the note to frequency conversion first\n",
    "        if type(chord[0]) == list: #this means it's a chord\n",
    "            pitch = []\n",
    "            for note in range(len(chord[0])):\n",
    "                octave = int(chord[0][note][0]) * 12 + 12\n",
    "                letter = let2num[chord[0][note][1:]]\n",
    "                pitch.append(midi_notes[octave+letter])\n",
    "        else: #it's a single note\n",
    "            if chord[0] != 'rest':\n",
    "                octave = int(chord[0][0]) * 12 + 12\n",
    "                letter = let2num[chord[0][1:]]\n",
    "                pitch = [midi_notes[octave+letter]]\n",
    "            else: #it's a rest\n",
    "                pitch = [0.0]\n",
    "        \n",
    "        #handling the length to second conversion second\n",
    "        dur = chord[1]*whole_note\n",
    "        output.append([pitch, dur])\n",
    "    return output\n",
    "        \n",
    "\n",
    "example_notes = [[['3b', '3g', '4d'], 0.25], ['3a', 0.25], ['3g', 0.25], ['3a', 0.25],\n",
    "                 ['3b', 0.25], ['3b', 0.25], ['3b', 0.25], ['rest', 0.25]]\n",
    "\n",
    "out = noteToHz(example_notes)\n",
    "print(out)"
   ]
  }
 ],
 "metadata": {
  "kernelspec": {
   "display_name": "Python 3 (ipykernel)",
   "language": "python",
   "name": "python3"
  },
  "language_info": {
   "codemirror_mode": {
    "name": "ipython",
    "version": 3
   },
   "file_extension": ".py",
   "mimetype": "text/x-python",
   "name": "python",
   "nbconvert_exporter": "python",
   "pygments_lexer": "ipython3",
   "version": "3.10.10"
  }
 },
 "nbformat": 4,
 "nbformat_minor": 5
}
